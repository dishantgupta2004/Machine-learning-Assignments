{
 "cells": [
  {
   "cell_type": "code",
   "execution_count": 1,
   "id": "0d96a718-7602-4dbe-9a79-e1ea02c73e50",
   "metadata": {},
   "outputs": [],
   "source": [
    "import seaborn as sns\n",
    "import numpy as np\n",
    "import pandas as pd\n",
    "import matplotlib.pyplot as plt\n",
    "import scipy.stats as stats\n",
    "df = sns.load_dataset(\"tips\")"
   ]
  },
  {
   "cell_type": "code",
   "execution_count": 2,
   "id": "8940a798-3b8f-4250-8c34-f910f3f1e029",
   "metadata": {},
   "outputs": [],
   "source": [
    "data_table = pd.crosstab(df['sex'], df['smoker'])"
   ]
  },
  {
   "cell_type": "code",
   "execution_count": 3,
   "id": "6aad1134-fd15-4401-9e3a-6fb71835a8e4",
   "metadata": {},
   "outputs": [
    {
     "data": {
      "text/html": [
       "<div>\n",
       "<style scoped>\n",
       "    .dataframe tbody tr th:only-of-type {\n",
       "        vertical-align: middle;\n",
       "    }\n",
       "\n",
       "    .dataframe tbody tr th {\n",
       "        vertical-align: top;\n",
       "    }\n",
       "\n",
       "    .dataframe thead th {\n",
       "        text-align: right;\n",
       "    }\n",
       "</style>\n",
       "<table border=\"1\" class=\"dataframe\">\n",
       "  <thead>\n",
       "    <tr style=\"text-align: right;\">\n",
       "      <th>smoker</th>\n",
       "      <th>Yes</th>\n",
       "      <th>No</th>\n",
       "    </tr>\n",
       "    <tr>\n",
       "      <th>sex</th>\n",
       "      <th></th>\n",
       "      <th></th>\n",
       "    </tr>\n",
       "  </thead>\n",
       "  <tbody>\n",
       "    <tr>\n",
       "      <th>Male</th>\n",
       "      <td>60</td>\n",
       "      <td>97</td>\n",
       "    </tr>\n",
       "    <tr>\n",
       "      <th>Female</th>\n",
       "      <td>33</td>\n",
       "      <td>54</td>\n",
       "    </tr>\n",
       "  </tbody>\n",
       "</table>\n",
       "</div>"
      ],
      "text/plain": [
       "smoker  Yes  No\n",
       "sex            \n",
       "Male     60  97\n",
       "Female   33  54"
      ]
     },
     "execution_count": 3,
     "metadata": {},
     "output_type": "execute_result"
    }
   ],
   "source": [
    "data_table"
   ]
  },
  {
   "cell_type": "code",
   "execution_count": 4,
   "id": "955a24f2-5d39-4a85-b901-a8857e243346",
   "metadata": {},
   "outputs": [],
   "source": [
    "### Chi square table\n",
    "## Observe value and expected value\n",
    "observed_values = data_table.values"
   ]
  },
  {
   "cell_type": "code",
   "execution_count": 14,
   "id": "427cbbab-da11-478f-b9e9-ae4c2447fc33",
   "metadata": {},
   "outputs": [],
   "source": [
    "## 1st approach >> allowing chi square itself some expected value\n",
    "stats_test, p, dof, expected_values = stats.chi2_contingency(observed_values)"
   ]
  },
  {
   "cell_type": "code",
   "execution_count": 15,
   "id": "d798c835-4287-4a47-835a-2c31bfffc22c",
   "metadata": {},
   "outputs": [
    {
     "data": {
      "text/plain": [
       "array([[59.84016393, 97.15983607],\n",
       "       [33.15983607, 53.84016393]])"
      ]
     },
     "execution_count": 15,
     "metadata": {},
     "output_type": "execute_result"
    }
   ],
   "source": [
    "expected_values"
   ]
  },
  {
   "cell_type": "markdown",
   "id": "2188db29-c235-410b-86b8-61ed1d10bfb1",
   "metadata": {},
   "source": [
    "chi_statistics = ((onserved - expected)**2) / expected"
   ]
  },
  {
   "cell_type": "code",
   "execution_count": 16,
   "id": "a88d3547-f3a3-4b80-84d5-71fe743cc3f0",
   "metadata": {},
   "outputs": [
    {
     "name": "stdout",
     "output_type": "stream",
     "text": [
      "(array([60, 97]), array([59.84016393, 97.15983607]))\n",
      "(array([33, 54]), array([33.15983607, 53.84016393]))\n"
     ]
    }
   ],
   "source": [
    "for i in zip(observed_values, expected_values):\n",
    "    print(i)"
   ]
  },
  {
   "cell_type": "code",
   "execution_count": 17,
   "id": "b2969e78-5556-42ba-8c26-83f7adf55f6f",
   "metadata": {},
   "outputs": [],
   "source": [
    "chi_square_test = sum((observed - expected)**2 / expected for observed, expected in zip(observed_values, expected_values))\n",
    "    "
   ]
  },
  {
   "cell_type": "code",
   "execution_count": 18,
   "id": "dd5a3048-4a7d-456d-811f-e3fab5bc51c6",
   "metadata": {},
   "outputs": [],
   "source": [
    "chi_square_stats = chi_square_test[0] + chi_square_test[1]"
   ]
  },
  {
   "cell_type": "code",
   "execution_count": 19,
   "id": "db1c135e-1521-47a5-bf31-445f4ad5a785",
   "metadata": {},
   "outputs": [
    {
     "data": {
      "text/plain": [
       "0.001934818536627623"
      ]
     },
     "execution_count": 19,
     "metadata": {},
     "output_type": "execute_result"
    }
   ],
   "source": [
    "chi_square_stats"
   ]
  },
  {
   "cell_type": "code",
   "execution_count": 20,
   "id": "31d1a596-1865-4add-bce9-a32fddc36597",
   "metadata": {},
   "outputs": [
    {
     "data": {
      "text/plain": [
       "1"
      ]
     },
     "execution_count": 20,
     "metadata": {},
     "output_type": "execute_result"
    }
   ],
   "source": [
    "dof"
   ]
  },
  {
   "cell_type": "code",
   "execution_count": 21,
   "id": "5a56f885-176d-4e47-a8ca-0e381890c842",
   "metadata": {},
   "outputs": [],
   "source": [
    "alpha = 0.05\n",
    "chi_square_critical = stats.chi2.ppf(1-alpha, df= dof)"
   ]
  },
  {
   "cell_type": "code",
   "execution_count": 22,
   "id": "f8625b7e-7225-4e3b-a662-c49aa5e8ed06",
   "metadata": {},
   "outputs": [
    {
     "data": {
      "text/plain": [
       "3.841458820694124"
      ]
     },
     "execution_count": 22,
     "metadata": {},
     "output_type": "execute_result"
    }
   ],
   "source": [
    "chi_square_critical"
   ]
  },
  {
   "cell_type": "code",
   "execution_count": 23,
   "id": "4d1a0b7d-2b4b-489d-a6ce-6f836fff78c9",
   "metadata": {},
   "outputs": [
    {
     "name": "stdout",
     "output_type": "stream",
     "text": [
      "Fail to reject the null hypothesis\n"
     ]
    }
   ],
   "source": [
    "if chi_square_stats > chi_square_critical:\n",
    "    print(\"Reject the null hypothesis\")\n",
    "else:\n",
    "    print(\"Fail to reject the null hypothesis\")"
   ]
  },
  {
   "cell_type": "code",
   "execution_count": 24,
   "id": "809ddb0d-4545-4cd2-93f1-d002efd1ff22",
   "metadata": {},
   "outputs": [],
   "source": [
    "p_value = 1 - stats.chi2.cdf(x= chi_square_stats, df= dof)"
   ]
  },
  {
   "cell_type": "code",
   "execution_count": 25,
   "id": "57091db7-5fe7-4ddc-947f-5f9f13432c62",
   "metadata": {},
   "outputs": [
    {
     "data": {
      "text/plain": [
       "0.964915107315732"
      ]
     },
     "execution_count": 25,
     "metadata": {},
     "output_type": "execute_result"
    }
   ],
   "source": [
    "p_value"
   ]
  },
  {
   "cell_type": "code",
   "execution_count": 26,
   "id": "67d1e651-ee1e-4b2f-b6f1-d4ef943e2e83",
   "metadata": {},
   "outputs": [
    {
     "name": "stdout",
     "output_type": "stream",
     "text": [
      "Fail to reject the null hypothesis\n"
     ]
    }
   ],
   "source": [
    "if p_value <= alpha:\n",
    "    print(\"Reject the null hypothesis\")\n",
    "else:\n",
    "    print(\"Fail to reject the null hypothesis\")"
   ]
  },
  {
   "cell_type": "code",
   "execution_count": 27,
   "id": "eec69b0e-2b78-4627-9206-c9485243fd1e",
   "metadata": {},
   "outputs": [
    {
     "data": {
      "text/plain": [
       "[45, 45]"
      ]
     },
     "execution_count": 27,
     "metadata": {},
     "output_type": "execute_result"
    }
   ],
   "source": [
    "### Direct / another approach\n",
    "# No of hours studies daily in a weekly basis\n",
    "\n",
    "expected_data = np.array([8,5,6,8,5,7,6])\n",
    "observed_data = np.array([7,4,7,9,4,8,6])\n",
    "\n",
    "[sum(expected_data), sum(observed_data)]"
   ]
  },
  {
   "cell_type": "code",
   "execution_count": 29,
   "id": "b1e35292-07e3-485c-9e3b-e299e2e8452e",
   "metadata": {},
   "outputs": [],
   "source": [
    "chi_square_stats, p_value = stats.chisquare(observed_data, expected_data)"
   ]
  },
  {
   "cell_type": "code",
   "execution_count": 32,
   "id": "2e89554a-a88a-4b18-9f97-bdfb9caf5278",
   "metadata": {},
   "outputs": [],
   "source": [
    "dof = len(observed_data) - 1\n",
    "alpha = 0.05\n",
    "\n",
    "chi_critical = stats.chi2.ppf(1-alpha, dof)"
   ]
  },
  {
   "cell_type": "code",
   "execution_count": 33,
   "id": "5fa4e88e-f7e6-43d2-8df7-c470439a1587",
   "metadata": {},
   "outputs": [
    {
     "data": {
      "text/plain": [
       "12.591587243743977"
      ]
     },
     "execution_count": 33,
     "metadata": {},
     "output_type": "execute_result"
    }
   ],
   "source": [
    "chi_critical"
   ]
  },
  {
   "cell_type": "code",
   "execution_count": 34,
   "id": "a066d0b6-8151-46ea-be77-8d0114e09769",
   "metadata": {},
   "outputs": [
    {
     "name": "stdout",
     "output_type": "stream",
     "text": [
      "Fail to reject the null hypothesis\n"
     ]
    }
   ],
   "source": [
    "if chi_square_stats > chi_critical:\n",
    "    print(\"Reject the null hypothesis\")\n",
    "else:\n",
    "    print(\"Fail to reject the null hypothesis\")"
   ]
  },
  {
   "cell_type": "code",
   "execution_count": null,
   "id": "a2237236-5920-4da8-b2a2-663ec5a16822",
   "metadata": {},
   "outputs": [],
   "source": []
  }
 ],
 "metadata": {
  "kernelspec": {
   "display_name": "Python 3 (ipykernel)",
   "language": "python",
   "name": "python3"
  },
  "language_info": {
   "codemirror_mode": {
    "name": "ipython",
    "version": 3
   },
   "file_extension": ".py",
   "mimetype": "text/x-python",
   "name": "python",
   "nbconvert_exporter": "python",
   "pygments_lexer": "ipython3",
   "version": "3.10.8"
  }
 },
 "nbformat": 4,
 "nbformat_minor": 5
}

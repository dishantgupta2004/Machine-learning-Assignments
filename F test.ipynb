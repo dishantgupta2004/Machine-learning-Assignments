{
 "cells": [
  {
   "cell_type": "code",
   "execution_count": 1,
   "id": "62234f66-7fda-45e6-b185-c2f04b21e04a",
   "metadata": {},
   "outputs": [],
   "source": [
    "import seaborn as sns\n",
    "import numpy as np\n",
    "import pandas as pd\n",
    "import matplotlib.pyplot as plt\n",
    "import scipy.stats as stats"
   ]
  },
  {
   "cell_type": "code",
   "execution_count": 2,
   "id": "a9882142-5d88-4019-b65f-9a4bebfc4120",
   "metadata": {},
   "outputs": [
    {
     "data": {
      "text/plain": [
       "0.743155149934811"
      ]
     },
     "execution_count": 2,
     "metadata": {},
     "output_type": "execute_result"
    }
   ],
   "source": [
    "worker1 = [18, 17, 20, 25, 27, 55, 51, 42, 46, 29]\n",
    "worker2 = [18, 16, 22, 26, 39, 51, 48, 44, 58, 12]\n",
    "\n",
    "fstats = np.var(worker1) / np.var(worker2)\n",
    "\n",
    "fstats"
   ]
  },
  {
   "cell_type": "code",
   "execution_count": 4,
   "id": "50f8d6d7-dc1b-4ce4-bac0-4df1f2af5aa7",
   "metadata": {},
   "outputs": [
    {
     "data": {
      "text/plain": [
       "3.178893104458269"
      ]
     },
     "execution_count": 4,
     "metadata": {},
     "output_type": "execute_result"
    }
   ],
   "source": [
    "df1 = len(worker1) - 1\n",
    "df2 = len(worker2) - 1\n",
    "alpha = 0.05\n",
    "f_critical = stats.f.ppf(1-alpha, dfn = df1, dfd = df2)\n",
    "\n",
    "f_critical"
   ]
  },
  {
   "cell_type": "code",
   "execution_count": 6,
   "id": "5c4ea517-b092-4750-b27c-0a3e0b3e2a11",
   "metadata": {},
   "outputs": [
    {
     "name": "stdout",
     "output_type": "stream",
     "text": [
      "fail to reject the null hypothesis\n"
     ]
    }
   ],
   "source": [
    "if fstats>f_critical:\n",
    "    print(\"Reject the null hyposthesis\")\n",
    "else:\n",
    "    print(\"fail to reject the null hypothesis\")"
   ]
  },
  {
   "cell_type": "code",
   "execution_count": null,
   "id": "4366bf95-58fc-4a89-9ddc-84c2d16ff170",
   "metadata": {},
   "outputs": [],
   "source": [
    "## ANOVA TEST\n"
   ]
  }
 ],
 "metadata": {
  "kernelspec": {
   "display_name": "Python 3 (ipykernel)",
   "language": "python",
   "name": "python3"
  },
  "language_info": {
   "codemirror_mode": {
    "name": "ipython",
    "version": 3
   },
   "file_extension": ".py",
   "mimetype": "text/x-python",
   "name": "python",
   "nbconvert_exporter": "python",
   "pygments_lexer": "ipython3",
   "version": "3.10.8"
  }
 },
 "nbformat": 4,
 "nbformat_minor": 5
}
